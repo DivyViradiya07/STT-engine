{
 "cells": [
  {
   "cell_type": "code",
   "execution_count": 1,
   "metadata": {},
   "outputs": [
    {
     "name": "stdout",
     "output_type": "stream",
     "text": [
      "✅ Model Loaded Successfully on: cuda\n"
     ]
    }
   ],
   "source": [
    "from transformers import Wav2Vec2Processor, Wav2Vec2ForCTC\n",
    "import torch\n",
    "import librosa\n",
    "\n",
    "# Load processor & trained model\n",
    "model_path = \"D:/Speech_recognition/wav2vec2_finetuned\"\n",
    "processor = Wav2Vec2Processor.from_pretrained(model_path)\n",
    "model = Wav2Vec2ForCTC.from_pretrained(model_path)\n",
    "\n",
    "# Move model to GPU if available\n",
    "device = torch.device(\"cuda\" if torch.cuda.is_available() else \"cpu\")\n",
    "model.to(device)\n",
    "\n",
    "print(\"✅ Model Loaded Successfully on:\", device)"
   ]
  },
  {
   "cell_type": "code",
   "execution_count": 2,
   "metadata": {},
   "outputs": [],
   "source": [
    "def transcribe_audio(audio_path):\n",
    "    # Load audio file\n",
    "    waveform, _ = librosa.load(audio_path, sr=16000)\n",
    "    \n",
    "    # Convert audio to tensor\n",
    "    input_values = processor(waveform, sampling_rate=16000, return_tensors=\"pt\", padding=True).input_values\n",
    "    input_values = input_values.to(device)\n",
    "\n",
    "    # Perform inference\n",
    "    with torch.no_grad():\n",
    "        logits = model(input_values).logits\n",
    "\n",
    "    # Decode prediction\n",
    "    predicted_ids = torch.argmax(logits, dim=-1)\n",
    "    transcription = processor.batch_decode(predicted_ids)[0]\n",
    "\n",
    "    return transcription\n"
   ]
  },
  {
   "cell_type": "code",
   "execution_count": 3,
   "metadata": {},
   "outputs": [
    {
     "name": "stdout",
     "output_type": "stream",
     "text": [
      "📝 Transcription: THE VAMP OF THE SHOE HAD A GOLD BUCKLE\n"
     ]
    }
   ],
   "source": [
    "audio_path = \"D:/Speech_recognition/Test.wav\"  # Replace with an actual audio file\n",
    "transcription = transcribe_audio(audio_path)\n",
    "print(\"📝 Transcription:\", transcription)\n"
   ]
  },
  {
   "cell_type": "markdown",
   "metadata": {},
   "source": [
    "USING NLP Technique\n"
   ]
  },
  {
   "cell_type": "code",
   "execution_count": 19,
   "metadata": {},
   "outputs": [],
   "source": [
    "import os\n",
    "from langchain_groq import ChatGroq\n",
    "from dotenv import load_dotenv\n",
    "\n",
    "# Load API Key\n",
    "load_dotenv()\n",
    "groq_api_key = os.getenv(\"GROQ_API_KEY\")\n",
    "\n",
    "# Initialize Groq LLM with optimized parameters\n",
    "groq_llm = ChatGroq(\n",
    "    model_name=\"mistral-saba-24b\",  \n",
    "    groq_api_key=groq_api_key,\n",
    "    temperature=0.1  # Lower temp for accuracy\n",
    ")\n",
    "\n",
    "def batch_refine_transcriptions(asr_outputs):\n",
    "    \"\"\"Processes multiple ASR transcriptions at once using Groq LLM.\"\"\"\n",
    "    \n",
    "    if not asr_outputs:\n",
    "        return []  # Return empty list if input is empty\n",
    "\n",
    "    # Format ASR transcriptions into a numbered list\n",
    "    formatted_transcriptions = \"\\n\".join([f\"{i+1}. {text}\" for i, text in enumerate(asr_outputs)])\n",
    "\n",
    "    # Define the LLM prompt inside the function\n",
    "    prompt = f\"\"\"\n",
    "    You are an advanced ASR correction assistant that fixes phonetic and contextual mistakes in transcriptions.\n",
    "    - Correct phonetic errors (e.g., 'sake fully ter' → 'sexual intercourse')\n",
    "    - Correct name recognition (e.g., 'Redgie' → 'Vraj')\n",
    "    - Ensure proper grammar while preserving original meaning.\n",
    "\n",
    "    Here are multiple ASR outputs. Correct each one and return ONLY the corrected texts, numbered accordingly:\n",
    "\n",
    "    {formatted_transcriptions}\n",
    "    \"\"\"\n",
    "\n",
    "    # Invoke Groq LLM\n",
    "    response = groq_llm.invoke(prompt)\n",
    "    \n",
    "    # Ensure response content is not None\n",
    "    if not response or not hasattr(response, \"content\"):\n",
    "        return [\"❌ Error: No response from Groq API\"]\n",
    "\n",
    "    # Split output by lines and remove numbering\n",
    "    corrected_texts = response.content.strip().split(\"\\n\")\n",
    "    return [text.split(\". \", 1)[1] if \". \" in text else text for text in corrected_texts]  # Remove numbering\n"
   ]
  },
  {
   "cell_type": "code",
   "execution_count": 20,
   "metadata": {},
   "outputs": [
    {
     "name": "stdout",
     "output_type": "stream",
     "text": [
      "✅ Corrected 1: I had sexual intercourse with Vraj's mother\n"
     ]
    }
   ],
   "source": [
    "asr_outputs = [\n",
    "    \"I HEAD SAKE FULLY TER COUSE WITH REDGIE'S MOTHER\",\n",
    "]\n",
    "\n",
    "corrected_texts = batch_refine_transcriptions(asr_outputs)\n",
    "\n",
    "# Print corrected outputs\n",
    "for i, corrected in enumerate(corrected_texts):\n",
    "    print(f\"✅ Corrected {i+1}: {corrected}\")\n"
   ]
  },
  {
   "cell_type": "code",
   "execution_count": null,
   "metadata": {},
   "outputs": [],
   "source": []
  }
 ],
 "metadata": {
  "kernelspec": {
   "display_name": "CUDA_env",
   "language": "python",
   "name": "cuda_env"
  },
  "language_info": {
   "codemirror_mode": {
    "name": "ipython",
    "version": 3
   },
   "file_extension": ".py",
   "mimetype": "text/x-python",
   "name": "python",
   "nbconvert_exporter": "python",
   "pygments_lexer": "ipython3",
   "version": "3.13.2"
  }
 },
 "nbformat": 4,
 "nbformat_minor": 2
}
